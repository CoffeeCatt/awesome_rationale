{
 "cells": [
  {
   "cell_type": "markdown",
   "id": "30371d11",
   "metadata": {},
   "source": [
    "TL;DR:\n",
    "\n",
    "### Goal: extract pieces of input texts as justification: rationale.\n",
    "\n",
    "### Two modules: \n",
    "- Generator: x->z [mask]: learn $p(z|x)$\n",
    "- Encoder:(x,z)[rationale]-> y [output] \n",
    "\n",
    "### Loss function:\n",
    "- $L_2$ distance: $\\|y-enc(x,z)\\|_2$ [sufficient]\n",
    "- Regularizer: $\\lambda_1 \\|z\\|$ [short] + $\\lambda_2 \\sum_t |z_t-z_{t-1}|$ [compact,discourages transition]\n",
    "\n",
    "\n",
    "### Some tricks in computing gradient.\n",
    "$$\\frac{\\partial}{\\partial_{\\theta_g}}\\mathbb{E}_{z\\sim p_{\\theta_g}(z|x)} \\text{cost}(z,x,y)$$\n",
    "    $$ = \\mathbb{E}_{z\\sim p_{\\theta_g}(z|x)} \\left[\\text{cost}(z,x,y)\\frac{\\partial \\log p(z|x)}{\\partial \\theta_g}\\right]$$\n",
    "- loss function for generator: sample $z$ from generator, $\\frac{1}{n}\\sum_{i}\\text{cost}(z_i,x,y) \\log p(z_i|x)$\n",
    "- loss function for encoder: sample $z$ from encoder, $\\frac{1}{n}\\sum_{i}\\text{cost}(z_i,x,y)$"
   ]
  },
  {
   "cell_type": "markdown",
   "id": "549b77c1",
   "metadata": {},
   "source": [
    "https://github.com/taolei87/rcnn/blob/master/code/rationale/rationale.py"
   ]
  }
 ],
 "metadata": {
  "kernelspec": {
   "display_name": "Python 3",
   "language": "python",
   "name": "python3"
  },
  "language_info": {
   "codemirror_mode": {
    "name": "ipython",
    "version": 3
   },
   "file_extension": ".py",
   "mimetype": "text/x-python",
   "name": "python",
   "nbconvert_exporter": "python",
   "pygments_lexer": "ipython3",
   "version": "3.6.9"
  }
 },
 "nbformat": 4,
 "nbformat_minor": 5
}
